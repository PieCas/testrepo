{
  "nbformat": 4,
  "nbformat_minor": 0,
  "metadata": {
    "colab": {
      "provenance": [],
      "authorship_tag": "ABX9TyMW88Kkvnuu0l54TH4fzBcb",
      "include_colab_link": true
    },
    "kernelspec": {
      "name": "python3",
      "display_name": "Python 3"
    },
    "language_info": {
      "name": "python"
    }
  },
  "cells": [
    {
      "cell_type": "markdown",
      "metadata": {
        "id": "view-in-github",
        "colab_type": "text"
      },
      "source": [
        "<a href=\"https://colab.research.google.com/github/PieCas/testrepo/blob/main/Untitled2.ipynb\" target=\"_parent\"><img src=\"https://colab.research.google.com/assets/colab-badge.svg\" alt=\"Open In Colab\"/></a>"
      ]
    },
    {
      "cell_type": "code",
      "source": [
        "givenstring=\"Lorem ipsum dolor! diam amet, consetetur Lorem magna. sed diam nonumy eirmod tempor. diam et labore? et diam magna. et diam amet.\""
      ],
      "metadata": {
        "id": "XjenLP5OdjLy"
      },
      "execution_count": null,
      "outputs": []
    },
    {
      "cell_type": "code",
      "source": [
        "class TextAnalyzer(object):\n",
        "    # The __init__ method initializes the class with a 'text' parameter.\n",
        "    # We will store the provided 'text' as an instance variable.\n",
        "    def __init__(self, text):"
      ],
      "metadata": {
        "colab": {
          "base_uri": "https://localhost:8080/",
          "height": 106
        },
        "id": "vIUDwJQpdkdR",
        "outputId": "4e438450-9de9-4f20-f614-e7407eb71364"
      },
      "execution_count": null,
      "outputs": [
        {
          "output_type": "error",
          "ename": "SyntaxError",
          "evalue": "incomplete input (<ipython-input-8-f51dbbbbd44c>, line 4)",
          "traceback": [
            "\u001b[0;36m  File \u001b[0;32m\"<ipython-input-8-f51dbbbbd44c>\"\u001b[0;36m, line \u001b[0;32m4\u001b[0m\n\u001b[0;31m    def __init__(self, text):\u001b[0m\n\u001b[0m                             ^\u001b[0m\n\u001b[0;31mSyntaxError\u001b[0m\u001b[0;31m:\u001b[0m incomplete input\n"
          ]
        }
      ]
    },
    {
      "cell_type": "code",
      "source": [
        "class TextAnalzer(object):\n",
        "\n",
        "    def __init__ (self, text):\n",
        "        # remove punctuation\n",
        "        formattedText = text.replace('.','').replace('!','').replace('?','').replace(',','')\n",
        "\n",
        "        # make text lowercase\n",
        "        formattedText = formattedText.lower()\n",
        "\n",
        "        self.fmtText = formattedText"
      ],
      "metadata": {
        "id": "WLYNahHEdrDR"
      },
      "execution_count": null,
      "outputs": []
    },
    {
      "cell_type": "code",
      "source": [
        "def __init__ (self, text):\n",
        "        # remove punctuation\n",
        "        formattedText = text.replace('.','').replace('!','').replace('?','').replace(',','')\n",
        "\n",
        "        # make text lowercase\n",
        "        formattedText = formattedText.lower()\n",
        "\n",
        "        self.fmtText = formattedText\n",
        "\n",
        "    def freqAll(self):\n",
        "        # split text into words\n",
        "        wordList = self.fmtText.split(' ')\n",
        "\n",
        "        # Create dictionary\n",
        "        freqMap = {}\n",
        "        for word in set(wordList): # use set to remove duplicates in list\n",
        "            freqMap[word] = wordList.count(word)\n",
        "\n",
        "        return freqMap\n",
        "\n",
        "    def freqOf(self,word):\n",
        "        # get frequency map\n",
        "        freqDict = self.freqAll()\n",
        "\n",
        "        if word in freqDict:\n",
        "            return freqDict[word]\n",
        "        else:\n",
        "            return 0"
      ],
      "metadata": {
        "colab": {
          "base_uri": "https://localhost:8080/",
          "height": 106
        },
        "id": "4hxFwxxfelj5",
        "outputId": "9a39e186-95f1-4105-9af7-4e02dba9e38d"
      },
      "execution_count": null,
      "outputs": [
        {
          "output_type": "error",
          "ename": "IndentationError",
          "evalue": "unindent does not match any outer indentation level (<tokenize>, line 10)",
          "traceback": [
            "\u001b[0;36m  File \u001b[0;32m\"<tokenize>\"\u001b[0;36m, line \u001b[0;32m10\u001b[0m\n\u001b[0;31m    def freqAll(self):\u001b[0m\n\u001b[0m    ^\u001b[0m\n\u001b[0;31mIndentationError\u001b[0m\u001b[0;31m:\u001b[0m unindent does not match any outer indentation level\n"
          ]
        }
      ]
    },
    {
      "cell_type": "code",
      "source": [],
      "metadata": {
        "id": "HR6TsSrhfRBC"
      },
      "execution_count": null,
      "outputs": []
    }
  ]
}